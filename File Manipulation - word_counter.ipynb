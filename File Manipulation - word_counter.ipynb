{
 "cells": [
  {
   "cell_type": "markdown",
   "id": "3f4307fc-d9d6-472d-9060-0bdb2cd547a7",
   "metadata": {},
   "source": [
    "## Level 2\n",
    "### Task 5\n",
    "#### Task: File Manipulation\n",
    " * Task: File Manipulation Write a Python program that reads a text file and counts the occurrences of each word in the file. Display the results in alphabetical order along with their respective counts."
   ]
  },
  {
   "cell_type": "code",
   "execution_count": 10,
   "id": "fccc534d-f1ee-4b9a-ad67-4891b1e76774",
   "metadata": {},
   "outputs": [
    {
     "name": "stdin",
     "output_type": "stream",
     "text": [
      "Enter the filename:  sample.txt\n"
     ]
    },
    {
     "name": "stdout",
     "output_type": "stream",
     "text": [
      "Word Occurrences:\n",
      "a: 2\n",
      "are: 1\n",
      "file: 3\n",
      "has: 1\n",
      "in: 1\n",
      "is: 2\n",
      "repeated: 1\n",
      "sample: 2\n",
      "some: 1\n",
      "test: 1\n",
      "text: 1\n",
      "the: 1\n",
      "this: 4\n",
      "words: 1\n"
     ]
    }
   ],
   "source": [
    "import string\n",
    "\n",
    "def count_word_occurrences(filename):\n",
    "    try:\n",
    "        with open(filename, 'r', encoding='utf-8') as file:  \n",
    "            text = file.read().lower() \n",
    "    except FileNotFoundError:\n",
    "        print(f\"Error: File '{filename}' not found.\")\n",
    "        return\n",
    "\n",
    "    # Remove punctuation and split into words\n",
    "    text = text.translate(str.maketrans('', '', string.punctuation))  \n",
    "    words = text.split()\n",
    "\n",
    "    word_counts = {}\n",
    "    for word in words:\n",
    "        word_counts[word] = word_counts.get(word, 0) + 1  \n",
    "\n",
    "    # Sort the words alphabetically\n",
    "    sorted_words = sorted(word_counts.keys())\n",
    "\n",
    "    # Display the results\n",
    "    print(\"Word Occurrences:\")\n",
    "    for word in sorted_words:\n",
    "        print(f\"{word}: {word_counts[word]}\")\n",
    "\n",
    "# Get filename from the user\n",
    "filename = input(\"Enter the filename: \")\n",
    "\n",
    "count_word_occurrences(filename)"
   ]
  },
  {
   "cell_type": "code",
   "execution_count": null,
   "id": "9a0b3f9c-ed12-4176-bda2-4c038161befd",
   "metadata": {},
   "outputs": [],
   "source": []
  }
 ],
 "metadata": {
  "kernelspec": {
   "display_name": "Python 3 (ipykernel)",
   "language": "python",
   "name": "python3"
  },
  "language_info": {
   "codemirror_mode": {
    "name": "ipython",
    "version": 3
   },
   "file_extension": ".py",
   "mimetype": "text/x-python",
   "name": "python",
   "nbconvert_exporter": "python",
   "pygments_lexer": "ipython3",
   "version": "3.12.4"
  }
 },
 "nbformat": 4,
 "nbformat_minor": 5
}
