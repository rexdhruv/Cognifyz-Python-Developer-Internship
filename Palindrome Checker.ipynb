{
 "cells": [
  {
   "cell_type": "markdown",
   "id": "c66b8947-c9b6-4ae6-9c7e-b23ae617cf49",
   "metadata": {},
   "source": [
    "## Level 1\n",
    "### Task 5\n",
    "#### Task: Palindrome Checker \n",
    "* Write a Python function that checks whether a given string is a palindrome. A palindrome is a word, phrase, or sequence that reads the same backward as forward (e.g., \"madam\" or \"racecar\")."
   ]
  },
  {
   "cell_type": "code",
   "execution_count": 8,
   "id": "e57b7fc0-49e3-4d1c-8419-656f87d23c53",
   "metadata": {},
   "outputs": [
    {
     "name": "stdin",
     "output_type": "stream",
     "text": [
      "Enter the string:  racecar\n"
     ]
    },
    {
     "name": "stdout",
     "output_type": "stream",
     "text": [
      "String is Palindrome\n"
     ]
    }
   ],
   "source": [
    "def palindrome():\n",
    "    data = input(\"Enter the string: \")\n",
    "\n",
    "    if data == data[::-1]:\n",
    "        print(\"String is Palindrome\")\n",
    "    else:\n",
    "        print(\"String is not Palindrome\")\n",
    "\n",
    "palindrome()"
   ]
  },
  {
   "cell_type": "code",
   "execution_count": null,
   "id": "ee75c6da-a21a-455e-aa8a-d75955cb9a76",
   "metadata": {},
   "outputs": [],
   "source": []
  }
 ],
 "metadata": {
  "kernelspec": {
   "display_name": "Python 3 (ipykernel)",
   "language": "python",
   "name": "python3"
  },
  "language_info": {
   "codemirror_mode": {
    "name": "ipython",
    "version": 3
   },
   "file_extension": ".py",
   "mimetype": "text/x-python",
   "name": "python",
   "nbconvert_exporter": "python",
   "pygments_lexer": "ipython3",
   "version": "3.12.4"
  }
 },
 "nbformat": 4,
 "nbformat_minor": 5
}
