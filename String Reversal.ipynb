{
 "cells": [
  {
   "cell_type": "markdown",
   "id": "520326ac-3f08-4d09-b4c7-a92ca05654c9",
   "metadata": {},
   "source": [
    "## Level 1\n",
    "### Tast 1\n",
    "\n",
    "#### Task: String Reversal \n",
    "* Create a Python function that takes a string as input and returns the reverse of that string. For example, if the input is \"hello,\" the function should return \"olleh."
   ]
  },
  {
   "cell_type": "code",
   "execution_count": 21,
   "id": "5c57c90e-3c23-49b2-82b5-f335f47d4d67",
   "metadata": {},
   "outputs": [
    {
     "name": "stdin",
     "output_type": "stream",
     "text": [
      "Please enter a string: I love to ride my Honda.\n"
     ]
    },
    {
     "name": "stdout",
     "output_type": "stream",
     "text": [
      "You have entered: I love to ride my Honda.\n",
      "Reverse of the string: .adnoH ym edir ot evol I\n"
     ]
    }
   ],
   "source": [
    "def string_reversal():\n",
    "    # input the data\n",
    "    data = input(\"Please enter a string:\")\n",
    "\n",
    "    # show input data\n",
    "    print(\"You have entered:\", data)\n",
    "\n",
    "    # print reversal\n",
    "    print(\"Reverse of the string:\", data[::-1])\n",
    "\n",
    "# call the function\n",
    "string_reversal()"
   ]
  },
  {
   "cell_type": "code",
   "execution_count": null,
   "id": "09027fa3-5d94-48f9-a487-99b3b8d4181d",
   "metadata": {},
   "outputs": [],
   "source": []
  }
 ],
 "metadata": {
  "kernelspec": {
   "display_name": "Python 3 (ipykernel)",
   "language": "python",
   "name": "python3"
  },
  "language_info": {
   "codemirror_mode": {
    "name": "ipython",
    "version": 3
   },
   "file_extension": ".py",
   "mimetype": "text/x-python",
   "name": "python",
   "nbconvert_exporter": "python",
   "pygments_lexer": "ipython3",
   "version": "3.12.4"
  }
 },
 "nbformat": 4,
 "nbformat_minor": 5
}
