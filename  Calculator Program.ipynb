{
 "cells": [
  {
   "cell_type": "markdown",
   "id": "90985489-0234-415a-8684-07508284dd86",
   "metadata": {},
   "source": [
    "## Level 1\n",
    "### Task 4\n",
    "#### Task: Calculator Program \n",
    "* Create a Python program that acts as a basic calculator. It should prompt the user to enter two numbers and an operator (+, -, *, /, %), and then display the result of the operation."
   ]
  },
  {
   "cell_type": "code",
   "execution_count": 4,
   "id": "e81ebc98-7246-4fb4-bba2-4545b4e7e88a",
   "metadata": {},
   "outputs": [
    {
     "name": "stdin",
     "output_type": "stream",
     "text": [
      "Enter the first number:  5\n",
      "Enter the second number:  4\n",
      "Enter an operator (+,-,*,/,%):  +\n"
     ]
    },
    {
     "name": "stdout",
     "output_type": "stream",
     "text": [
      "The result is: 9.0\n"
     ]
    }
   ],
   "source": [
    "def calculator():\n",
    "    \n",
    "    # enter two numbers\n",
    "    num1 = float(input(\"Enter the first number: \"))\n",
    "    num2 = float(input(\"Enter the second number: \"))\n",
    "\n",
    "    # enter the operator\n",
    "    operator = input(\"Enter an operator (+,-,*,/,%): \")\n",
    "\n",
    "    #calculation\n",
    "    if operator == \"+\":\n",
    "        result = num1+num2\n",
    "    elif operator == \"-\":\n",
    "        result = num1-num2\n",
    "    elif operator == \"*\":\n",
    "        result = num1*num2\n",
    "    elif operator == \"/\":\n",
    "        if num2 != 0:\n",
    "            result = num1/num2\n",
    "        else:\n",
    "            return \"Error: Division by 0 is not allowed.\"\n",
    "    elif operator ==\"%\":\n",
    "        result = num1%num2\n",
    "    else:\n",
    "        return \"Error: Invalid operator.\"\n",
    "\n",
    "    # Display the result\n",
    "    return f\"The result is: {result}\"\n",
    "\n",
    "# call the function\n",
    "print(calculator())"
   ]
  },
  {
   "cell_type": "code",
   "execution_count": null,
   "id": "f9cd5791-24bd-4862-a117-252981a34a46",
   "metadata": {},
   "outputs": [],
   "source": []
  }
 ],
 "metadata": {
  "kernelspec": {
   "display_name": "Python 3 (ipykernel)",
   "language": "python",
   "name": "python3"
  },
  "language_info": {
   "codemirror_mode": {
    "name": "ipython",
    "version": 3
   },
   "file_extension": ".py",
   "mimetype": "text/x-python",
   "name": "python",
   "nbconvert_exporter": "python",
   "pygments_lexer": "ipython3",
   "version": "3.12.4"
  }
 },
 "nbformat": 4,
 "nbformat_minor": 5
}
