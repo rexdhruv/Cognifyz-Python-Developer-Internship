{
 "cells": [
  {
   "cell_type": "markdown",
   "id": "b8f8f476-b498-4218-8746-70769e6f8f50",
   "metadata": {},
   "source": [
    "## Level 1\n",
    "### Task 2\n",
    "#### Task: Temperature Conversion \n",
    "* Create a Python program that converts temperatures between Celsius and Fahrenheit. Prompt the user to enter a temperature value and the unit of measurement, and then display the converted temperature."
   ]
  },
  {
   "cell_type": "code",
   "execution_count": 47,
   "id": "aa873acf-229a-45e8-9999-cf396b1fcce0",
   "metadata": {},
   "outputs": [
    {
     "name": "stdout",
     "output_type": "stream",
     "text": [
      "Select the conversion type\n",
      "1. Celsius to Fahrenheit\n",
      "2. Fahrenheit to Celsius\n",
      "3. Celsius to Kelvin\n",
      "4. Kelvin to Celsius\n",
      "5. Fahrenheit to Kelvin\n"
     ]
    },
    {
     "name": "stdin",
     "output_type": "stream",
     "text": [
      "Select the number (1,2,3,4,5): 4\n"
     ]
    },
    {
     "name": "stdout",
     "output_type": "stream",
     "text": [
      "You have selected Kelvin to Celsius conversion\n"
     ]
    },
    {
     "name": "stdin",
     "output_type": "stream",
     "text": [
      "Please enter the temperature in Kelvin: 273\n"
     ]
    },
    {
     "name": "stdout",
     "output_type": "stream",
     "text": [
      "Temperture in Celsius: -0.14999999999997726 C\n"
     ]
    }
   ],
   "source": [
    "def temp_conversion():\n",
    "    print(\"Select the conversion type\")\n",
    "    print(\"1. Celsius to Fahrenheit\")\n",
    "    print(\"2. Fahrenheit to Celsius\")\n",
    "    print(\"3. Celsius to Kelvin\")\n",
    "    print(\"4. Kelvin to Celsius\")\n",
    "    print(\"5. Fahrenheit to Kelvin\")\n",
    "    data = input(\"Select the number (1,2,3,4,5):\")\n",
    "    \n",
    "    if data ==\"1\":\n",
    "        print(\"You have selected Celsius to Fahrenheit conversion\")\n",
    "        celsius = int(input(\"Please enter the temperature in Celsius:\"))\n",
    "        F = ((9/5)*celsius)+32\n",
    "        print(\"Temperature in Fahrenheit:\", F, \"F\")\n",
    "    \n",
    "    elif data ==\"2\":\n",
    "        print(\"You have selected Fahrenheit to Celsius conversion\")\n",
    "        fahrenheit = int(input(\"Please enter the temperature in Fahrenheit:\"))\n",
    "        C = ((5/9)*(fahrenheit-32))\n",
    "        print(\"Temperature in Celsius:\", C, \"C\")\n",
    "    \n",
    "    elif data ==\"3\":\n",
    "        print(\"You have selected Celsius to Kelvin conversion\")\n",
    "        celsius1 = int(input(\"Please enter the temperature in Celsius:\"))\n",
    "        K = celsius1+273.15\n",
    "        print(\"Temperature in Kelvin:\", K, \"K\")\n",
    "    \n",
    "    elif data ==\"4\":\n",
    "        print(\"You have selected Kelvin to Celsius conversion\")\n",
    "        kelvin = int(input(\"Please enter the temperature in Kelvin:\"))\n",
    "        C1 = 273.15-kelvin\n",
    "        print(\"Temperture in Celsius:\", -C1, \"C\")\n",
    "    \n",
    "    elif data ==\"5\":\n",
    "        print(\"You have selected Fahrenheit to Kelvin conversion\")\n",
    "        fahrenheit1 = int(input(\"Please enter the temperature in Fahrenheit:\"))\n",
    "        K1 = (fahrenheit1-32)*(5/9)+273.15\n",
    "        print(\"Temperature in Kelvin\", K1, \"K\")\n",
    "\n",
    "    else:\n",
    "        print(\"Please select any of the given number (1,2,3,4,5) only\")\n",
    "\n",
    "temp_conversion()"
   ]
  },
  {
   "cell_type": "code",
   "execution_count": null,
   "id": "430e29d5-6b49-4250-b92c-821e005427eb",
   "metadata": {},
   "outputs": [],
   "source": []
  }
 ],
 "metadata": {
  "kernelspec": {
   "display_name": "Python 3 (ipykernel)",
   "language": "python",
   "name": "python3"
  },
  "language_info": {
   "codemirror_mode": {
    "name": "ipython",
    "version": 3
   },
   "file_extension": ".py",
   "mimetype": "text/x-python",
   "name": "python",
   "nbconvert_exporter": "python",
   "pygments_lexer": "ipython3",
   "version": "3.12.4"
  }
 },
 "nbformat": 4,
 "nbformat_minor": 5
}
