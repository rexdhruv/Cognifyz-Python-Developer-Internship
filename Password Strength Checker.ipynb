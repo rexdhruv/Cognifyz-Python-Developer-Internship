{
 "cells": [
  {
   "cell_type": "markdown",
   "id": "1aa1e9d5-58ce-4ac3-80f2-3c21df0421fa",
   "metadata": {},
   "source": [
    "## Level 2\n",
    "### Task 3\n",
    "#### Task: Password Strength Checker\n",
    "* Create a Python function that evaluates the strength of a password entered by the user. Implement checks for factors such as length, presence of uppercase and lowercase letters, digits, and special characters."
   ]
  },
  {
   "cell_type": "code",
   "execution_count": 2,
   "id": "38243dc2-d33e-4634-8914-1b26e0c8ef4f",
   "metadata": {},
   "outputs": [],
   "source": [
    "import re"
   ]
  },
  {
   "cell_type": "code",
   "execution_count": 3,
   "id": "21241970-da8d-4865-a8e3-861de2f7371d",
   "metadata": {},
   "outputs": [
    {
     "name": "stdin",
     "output_type": "stream",
     "text": [
      "Enter your password:  Mohan@123\n"
     ]
    },
    {
     "name": "stdout",
     "output_type": "stream",
     "text": [
      "Password Strength: Strong\n"
     ]
    }
   ],
   "source": [
    "def password_strength(password):\n",
    "    score = 0\n",
    "    feedback = []\n",
    "\n",
    "    # Length Check\n",
    "    if len(password)>=12:\n",
    "        score += 2\n",
    "    elif len(password) >= 8:\n",
    "        score += 1\n",
    "    else:\n",
    "        feedback.append(\"Password should contain at least 8 characters long.\")\n",
    "\n",
    "    # Uppercase check\n",
    "    if re.search(r\"[A-Z]\", password):\n",
    "        score += 1\n",
    "    else:\n",
    "        feedback.append(\"Password should contain at least one uppercase letter.\")\n",
    "\n",
    "    # Lowecase check\n",
    "    if re.search(r\"[a=z]\", password):\n",
    "        score += 1\n",
    "    else:\n",
    "        feedback.append(\"Password should contain at least one lowercase letter.\")\n",
    "\n",
    "    # Digit check\n",
    "    if re.search(r\"[0-9]\", password):\n",
    "        score += 1\n",
    "\n",
    "    # Special character check\n",
    "    if re.search(r\"[!@#$%^&*()_+\\-=\\[\\]{};':\\\",\\\\|,.<>\\/?]\", password):\n",
    "        score += 1\n",
    "    else:\n",
    "        feedback.append(\"Password should contain at least one special character.\")\n",
    "\n",
    "    strength = \"\"\n",
    "    if score < 3:\n",
    "        strength = \"Week\"\n",
    "    elif score < 5:\n",
    "        strength = \"Moderate\"\n",
    "    elif score < 7:\n",
    "        strength = \"Strong\"\n",
    "    else:\n",
    "        strength = \"Excellent\"\n",
    "\n",
    "    if feedback: # Print feed back only if there is some issue\n",
    "        print(\"Password Feedback: \")\n",
    "        for message in feedback:\n",
    "            print(\"- \" + message)\n",
    "\n",
    "    return strength\n",
    "\n",
    "# Get password input from the user\n",
    "password = input(\"Enter your password: \")\n",
    "\n",
    "strength = password_strength(password)\n",
    "print(f\"Password Strength: {strength}\")      "
   ]
  },
  {
   "cell_type": "code",
   "execution_count": 4,
   "id": "05d92053-eb92-4aa8-8c9b-cf2b04bb656d",
   "metadata": {},
   "outputs": [
    {
     "name": "stdout",
     "output_type": "stream",
     "text": [
      "\n",
      "--- Test Cases ---\n",
      "Password Feedback: \n",
      "- Password should contain at least one uppercase letter.\n",
      "- Password should contain at least one special character.\n",
      "Test 1 (weak): Week\n",
      "Password Feedback: \n",
      "- Password should contain at least one lowercase letter.\n",
      "Test 2 (moderate): Moderate\n",
      "Password Feedback: \n",
      "- Password should contain at least one lowercase letter.\n",
      "Test 3 (strong): Moderate\n",
      "Password Feedback: \n",
      "- Password should contain at least one lowercase letter.\n",
      "Test 4 (excellent): Strong\n",
      "Password Feedback: \n",
      "- Password should contain at least one lowercase letter.\n",
      "Test 5 (another strong): Strong\n"
     ]
    }
   ],
   "source": [
    "# Example usage with some test cases:\n",
    "print(\"\\n--- Test Cases ---\")\n",
    "print(f\"Test 1 (weak): {password_strength('password')}\")\n",
    "print(f\"Test 2 (moderate): {password_strength('P@$$wOrd')}\")\n",
    "print(f\"Test 3 (strong): {password_strength('P@$$wOrd123')}\")\n",
    "print(f\"Test 4 (excellent): {password_strength('P@$$wOrd123!@#$%^&*()')}\")  #Long and complex\n",
    "print(f\"Test 5 (another strong): {password_strength('MyDogSpot123!')}\") "
   ]
  },
  {
   "cell_type": "code",
   "execution_count": null,
   "id": "d2158c3c-54a0-496f-b532-d7084209a3b1",
   "metadata": {},
   "outputs": [],
   "source": []
  }
 ],
 "metadata": {
  "kernelspec": {
   "display_name": "Python 3 (ipykernel)",
   "language": "python",
   "name": "python3"
  },
  "language_info": {
   "codemirror_mode": {
    "name": "ipython",
    "version": 3
   },
   "file_extension": ".py",
   "mimetype": "text/x-python",
   "name": "python",
   "nbconvert_exporter": "python",
   "pygments_lexer": "ipython3",
   "version": "3.12.4"
  }
 },
 "nbformat": 4,
 "nbformat_minor": 5
}
