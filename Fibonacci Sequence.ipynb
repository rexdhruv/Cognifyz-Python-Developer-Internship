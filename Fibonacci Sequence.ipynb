{
 "cells": [
  {
   "cell_type": "markdown",
   "id": "0375c748-cb35-4b82-bb5a-2bff5e27fc94",
   "metadata": {},
   "source": [
    "## Level 2\n",
    "### Task 4\n",
    "#### Task: Fibonacci Sequence \n",
    "* Write a Python function that generates the Fibonacci sequence up to a given number of terms. The function should take an integer input from the user and display the Fibonacci sequence up to that number of terms."
   ]
  },
  {
   "cell_type": "code",
   "execution_count": 8,
   "id": "9c2d14db-ce0d-4fae-9554-3ef4f8d48353",
   "metadata": {},
   "outputs": [
    {
     "name": "stdin",
     "output_type": "stream",
     "text": [
      "Enter the number of terms for the Fibonacci sequence:  10\n"
     ]
    },
    {
     "name": "stdout",
     "output_type": "stream",
     "text": [
      "Fibonacci sequence:\n",
      "0 1 1 2 3 5 8 13 21 34 \n"
     ]
    }
   ],
   "source": [
    "def fibonacci_sequence(n):\n",
    "    if n<=0:\n",
    "        print(\"Please enter a positive integer.\")\n",
    "        return\n",
    "\n",
    "    a, b = 0, 1 # Initialize the first two Fibonacci numbers\n",
    "    print(\"Fibonacci sequence:\")\n",
    "\n",
    "    for _ in range(n):\n",
    "        print(a, end = \" \") # Print current Fibonacci number\n",
    "        a, b = b, a + b # Update a and b for the next term\n",
    "    print()\n",
    "\n",
    "# Get input from the user (handling potential errors)\n",
    "while True:\n",
    "    try: \n",
    "        num_terms = int(input(\"Enter the number of terms for the Fibonacci sequence: \"))\n",
    "        if num_terms > 0: \n",
    "            break\n",
    "        else:\n",
    "            print(\"Please enter a positive integer.\")\n",
    "    except ValueError:\n",
    "        print(\"Invalid input. Please enter an integer.\")\n",
    "\n",
    "fibonacci_sequence(num_terms)"
   ]
  },
  {
   "cell_type": "code",
   "execution_count": null,
   "id": "35bf946c-e882-4561-ba3b-cc333ccf7d4a",
   "metadata": {},
   "outputs": [],
   "source": []
  }
 ],
 "metadata": {
  "kernelspec": {
   "display_name": "Python 3 (ipykernel)",
   "language": "python",
   "name": "python3"
  },
  "language_info": {
   "codemirror_mode": {
    "name": "ipython",
    "version": 3
   },
   "file_extension": ".py",
   "mimetype": "text/x-python",
   "name": "python",
   "nbconvert_exporter": "python",
   "pygments_lexer": "ipython3",
   "version": "3.12.4"
  }
 },
 "nbformat": 4,
 "nbformat_minor": 5
}
