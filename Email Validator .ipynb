{
 "cells": [
  {
   "cell_type": "markdown",
   "id": "78803f45-6466-4521-97fb-d7d8f40fb6c8",
   "metadata": {},
   "source": [
    "## Level 1\n",
    "### Task 3\n",
    "#### Task: Email Validator \n",
    "* Develop a Python function that validates whether a given string is a valid email address. Implement checks for the format, including the presence of an \"@\" symbol and a domain name"
   ]
  },
  {
   "cell_type": "code",
   "execution_count": 9,
   "id": "04b31b04-2389-4f55-88d3-5effe271ee0f",
   "metadata": {},
   "outputs": [
    {
     "name": "stdin",
     "output_type": "stream",
     "text": [
      "Enter your email address mandal.dhruv654@gmail.com\n"
     ]
    },
    {
     "name": "stdout",
     "output_type": "stream",
     "text": [
      "Valid Email\n"
     ]
    }
   ],
   "source": [
    "import re\n",
    "\n",
    "def is_valid_email(email):\n",
    "    pattern = r'^(\\D)+(\\w)*((\\.(\\w)+)?)+@(\\D)+(\\w)*((\\.(\\D)+(\\w)*)+)?(\\.)[a-z]{2,}$'\n",
    "    if re.match(pattern,email):\n",
    "        return True\n",
    "    else:\n",
    "        return False\n",
    "\n",
    "email = input(\"Enter your email address\")\n",
    "if is_valid_email(email):\n",
    "    print(\"Valid Email\")\n",
    "else:\n",
    "    print(\"Invalid Email\")"
   ]
  },
  {
   "cell_type": "code",
   "execution_count": null,
   "id": "d4648ffb-44c5-49d0-91ae-de21c5f7ee29",
   "metadata": {},
   "outputs": [],
   "source": []
  }
 ],
 "metadata": {
  "kernelspec": {
   "display_name": "Python 3 (ipykernel)",
   "language": "python",
   "name": "python3"
  },
  "language_info": {
   "codemirror_mode": {
    "name": "ipython",
    "version": 3
   },
   "file_extension": ".py",
   "mimetype": "text/x-python",
   "name": "python",
   "nbconvert_exporter": "python",
   "pygments_lexer": "ipython3",
   "version": "3.12.4"
  }
 },
 "nbformat": 4,
 "nbformat_minor": 5
}
